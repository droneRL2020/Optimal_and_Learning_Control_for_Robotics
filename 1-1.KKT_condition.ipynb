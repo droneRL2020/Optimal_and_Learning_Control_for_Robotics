{
 "cells": [
  {
   "cell_type": "markdown",
   "metadata": {},
   "source": [
    "## Study List\n",
    "#### 0. Lagrangian with simple example (https://www.youtube.com/watch?v=ry9cgNx1QV8&t=526s)\n",
    "#### 1. Lagrange Multiplier, KKT Condition (https://www.youtube.com/watch?v=ws38Jon_-_E)\n",
    "#### 1. Matrix, Vector derivative\n",
    "#### 2. Rank(Gauss Elimitation), Full Rank\n",
    "#### 3. Numerical computation"
   ]
  },
  {
   "cell_type": "markdown",
   "metadata": {},
   "source": [
    "## Goal\n",
    "#### 1) Find optimal x\n",
    "#### 2) Find optimal Lagrange multiplier\n",
    "#### 3) Verify constraint is indeed satisfied"
   ]
  },
  {
   "cell_type": "code",
   "execution_count": 2,
   "metadata": {},
   "outputs": [],
   "source": [
    "import numpy as np"
   ]
  },
  {
   "cell_type": "code",
   "execution_count": 3,
   "metadata": {},
   "outputs": [
    {
     "name": "stdout",
     "output_type": "stream",
     "text": [
      "x:\n",
      " [[ 0.09090909]\n",
      " [-0.01030928]\n",
      " [ 0.91940019]] \n",
      "\n",
      "lagrange_multiplier:\n",
      " [-0.89878163]\n"
     ]
    }
   ],
   "source": [
    "left = np.array([[10, 1, 0, 1],[1, 100, 2, 1],[0, 2, 1, 1],[1, 1, 1, 0]])\n",
    "right = np.array([[0],[0],[0],[1]])\n",
    "\n",
    "x_and_lagrange = np.linalg.solve(left, right)\n",
    "x = x_and_lagrange[:3]\n",
    "lagrange_multiplier = x_and_lagrange[-1]\n",
    "print(\"x:\\n\", x,\"\\n\\nlagrange_multiplier:\\n\", lagrange_multiplier)"
   ]
  },
  {
   "cell_type": "code",
   "execution_count": null,
   "metadata": {},
   "outputs": [],
   "source": []
  }
 ],
 "metadata": {
  "kernelspec": {
   "display_name": "Python 3",
   "language": "python",
   "name": "python3"
  },
  "language_info": {
   "codemirror_mode": {
    "name": "ipython",
    "version": 3
   },
   "file_extension": ".py",
   "mimetype": "text/x-python",
   "name": "python",
   "nbconvert_exporter": "python",
   "pygments_lexer": "ipython3",
   "version": "3.5.2"
  }
 },
 "nbformat": 4,
 "nbformat_minor": 2
}
